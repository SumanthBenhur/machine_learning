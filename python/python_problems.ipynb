{
  "nbformat": 4,
  "nbformat_minor": 0,
  "metadata": {
    "kernelspec": {
      "display_name": "Python 3",
      "language": "python",
      "name": "python3"
    },
    "language_info": {
      "codemirror_mode": {
        "name": "ipython",
        "version": 3
      },
      "file_extension": ".py",
      "mimetype": "text/x-python",
      "name": "python",
      "nbconvert_exporter": "python",
      "pygments_lexer": "ipython3",
      "version": "3.6.8"
    },
    "colab": {
      "name": "AAIC Python Assignment.ipynb",
      "provenance": [],
      "collapsed_sections": []
    }
  },
  "cells": [
    {
      "cell_type": "markdown",
      "metadata": {
        "id": "l0ZzOlyxB-kf"
      },
      "source": [
        "<h1>Python: without numpy or sklearn </h1>\n",
        "\n"
      ]
    },
    {
      "cell_type": "markdown",
      "metadata": {
        "id": "C0xO8JV9B-ki"
      },
      "source": [
        "<h3> Q1: Given two matrices please print the product of those two matrices </h3>\n",
        "<pre>\n",
        "\n",
        "Ex 1: A   = [[1 3 4]\n",
        "             [2 5 7]\n",
        "             [5 9 6]]\n",
        "      B   = [[1 0 0]\n",
        "             [0 1 0]\n",
        "             [0 0 1]]\n",
        "      A*B = [[1 3 4]\n",
        "             [2 5 7]\n",
        "             [5 9 6]]\n",
        "\n",
        "     \n",
        "Ex 2: A   = [[1 2]\n",
        "             [3 4]]\n",
        "      B   = [[1 2 3 4 5]\n",
        "             [5 6 7 8 9]]\n",
        "      A*B = [[11 14 17 20 23]\n",
        "             [23 30 36 42 51]]\n",
        "             \n",
        "Ex 3: A   = [[1 2]\n",
        "             [3 4]]\n",
        "      B   = [[1 4]\n",
        "             [5 6]\n",
        "             [7 8]\n",
        "             [9 6]]\n",
        "      A*B =Not possible\n",
        "</pre>"
      ]
    },
    {
      "cell_type": "code",
      "metadata": {
        "id": "rKgLqPegnd75"
      },
      "source": [
        "A  = [[1, 2],\n",
        "      [3, 4]]\n",
        "B   = [[1, 2, 3, 4, 5],\n",
        "      [5, 6, 7, 8, 9]]"
      ],
      "execution_count": 22,
      "outputs": []
    },
    {
      "cell_type": "code",
      "metadata": {
        "id": "rnssAfpgB-kj",
        "colab": {
          "base_uri": "https://localhost:8080/"
        },
        "outputId": "5d062af1-1ece-4e3b-e98e-e9f28b4b4751"
      },
      "source": [
        "def matrix_mul(A, B):\n",
        "    # write your code\n",
        "    if(len(A) == 0 or len(B)==0):\n",
        "      return('Not possible')\n",
        "    \n",
        "    rows_A, rows_B =  len(A), len(B)\n",
        "    cols_A, cols_B = len(A[0]), len(B[0])\n",
        "    \n",
        "    # Checking if number of columns in A is same as rows in B (if multiplication between A and B is possible)\n",
        "    if(cols_A != rows_B):\n",
        "      return('Not possible')\n",
        "    # initialize a result matrix of size rows_a * cols_b with 0\n",
        "    res = [ [ 0 for i in range(cols_B) ] for j in range(rows_A) ] # https://www.geeksforgeeks.org/initialize-matrix-in-python/\n",
        "\n",
        "    # logic for multiplication of matrix\n",
        "    for i in range(rows_A):\n",
        "      for j in range(cols_B):\n",
        "        for k in range(rows_B):\n",
        "          res[i][j] += (A[i][k] * B[k][j])\n",
        "          # print(res)\n",
        "    return(res)\n",
        "    \n",
        "matrix_mul(A, B)"
      ],
      "execution_count": 23,
      "outputs": [
        {
          "output_type": "execute_result",
          "data": {
            "text/plain": [
              "[[11, 14, 17, 20, 23], [23, 30, 37, 44, 51]]"
            ]
          },
          "metadata": {},
          "execution_count": 23
        }
      ]
    },
    {
      "cell_type": "markdown",
      "metadata": {
        "id": "at4VwLggB-kn"
      },
      "source": [
        "<h3> Q2: Select a number randomly with probability proportional to its magnitude from the given array of n elements</h3>\n",
        "\n",
        "consider an experiment, selecting an element from the list A randomly with probability proportional to its magnitude.\n",
        "assume we are doing the same experiment for 100 times with replacement, in each experiment you will print a number that is selected randomly from A.\n",
        "\n",
        "<pre>\n",
        "Ex 1: A = [0 5 27 6 13 28 100 45 10 79]\n",
        "let f(x) denote the number of times x getting selected in 100 experiments.\n",
        "f(100) > f(79) > f(45) > f(28) > f(27) > f(13) > f(10) > f(6) > f(5) > f(0)\n",
        "</pre>"
      ]
    },
    {
      "cell_type": "code",
      "metadata": {
        "id": "B6S2dpBhB-kn",
        "colab": {
          "base_uri": "https://localhost:8080/"
        },
        "outputId": "d607d47b-28fe-4112-8f72-a9b84617a199"
      },
      "source": [
        "# concepts understood from https://medium.com/analytics-vidhya/pure-python-exercises-8f0affb25217\n",
        "from random import uniform\n",
        "\n",
        "def pick_a_number_from_list(A):\n",
        "    cumulative_sum = []\n",
        "    num = 0\n",
        "    # building a cumulative sum array\n",
        "    for ele in A:\n",
        "      cumulative_sum.append(num+ele)\n",
        "      num+=ele\n",
        "    print(cumulative_sum)\n",
        "    # upper limit is the last numer / total sum\n",
        "    u_limit = cumulative_sum[-1]\n",
        "\n",
        "    # selecting random number between 0 and upper limit\n",
        "\n",
        "    ran = uniform(0, u_limit)\n",
        "    index = 0\n",
        "    # getting index of number\n",
        "    for i in range(len(cumulative_sum)):\n",
        "      if(cumulative_sum[i] > ran):\n",
        "        index = i\n",
        "        break\n",
        "      \n",
        "    return A[i]\n",
        "\n",
        "A = [0, 5, 27, 6, 13, 28, 100, 45, 10, 79]\n",
        "\n",
        "def sampling_based_on_magnitued():\n",
        "    for i in range(1,100):\n",
        "        number = pick_a_number_from_list(A)\n",
        "        print(number)\n",
        "\n",
        "sampling_based_on_magnitued()"
      ],
      "execution_count": 24,
      "outputs": [
        {
          "output_type": "stream",
          "name": "stdout",
          "text": [
            "[0, 5, 32, 38, 51, 79, 179, 224, 234, 313]\n",
            "28\n",
            "[0, 5, 32, 38, 51, 79, 179, 224, 234, 313]\n",
            "100\n",
            "[0, 5, 32, 38, 51, 79, 179, 224, 234, 313]\n",
            "27\n",
            "[0, 5, 32, 38, 51, 79, 179, 224, 234, 313]\n",
            "100\n",
            "[0, 5, 32, 38, 51, 79, 179, 224, 234, 313]\n",
            "45\n",
            "[0, 5, 32, 38, 51, 79, 179, 224, 234, 313]\n",
            "79\n",
            "[0, 5, 32, 38, 51, 79, 179, 224, 234, 313]\n",
            "27\n",
            "[0, 5, 32, 38, 51, 79, 179, 224, 234, 313]\n",
            "79\n",
            "[0, 5, 32, 38, 51, 79, 179, 224, 234, 313]\n",
            "100\n",
            "[0, 5, 32, 38, 51, 79, 179, 224, 234, 313]\n",
            "45\n",
            "[0, 5, 32, 38, 51, 79, 179, 224, 234, 313]\n",
            "28\n",
            "[0, 5, 32, 38, 51, 79, 179, 224, 234, 313]\n",
            "27\n",
            "[0, 5, 32, 38, 51, 79, 179, 224, 234, 313]\n",
            "100\n",
            "[0, 5, 32, 38, 51, 79, 179, 224, 234, 313]\n",
            "28\n",
            "[0, 5, 32, 38, 51, 79, 179, 224, 234, 313]\n",
            "45\n",
            "[0, 5, 32, 38, 51, 79, 179, 224, 234, 313]\n",
            "100\n",
            "[0, 5, 32, 38, 51, 79, 179, 224, 234, 313]\n",
            "100\n",
            "[0, 5, 32, 38, 51, 79, 179, 224, 234, 313]\n",
            "5\n",
            "[0, 5, 32, 38, 51, 79, 179, 224, 234, 313]\n",
            "79\n",
            "[0, 5, 32, 38, 51, 79, 179, 224, 234, 313]\n",
            "13\n",
            "[0, 5, 32, 38, 51, 79, 179, 224, 234, 313]\n",
            "45\n",
            "[0, 5, 32, 38, 51, 79, 179, 224, 234, 313]\n",
            "79\n",
            "[0, 5, 32, 38, 51, 79, 179, 224, 234, 313]\n",
            "28\n",
            "[0, 5, 32, 38, 51, 79, 179, 224, 234, 313]\n",
            "100\n",
            "[0, 5, 32, 38, 51, 79, 179, 224, 234, 313]\n",
            "28\n",
            "[0, 5, 32, 38, 51, 79, 179, 224, 234, 313]\n",
            "27\n",
            "[0, 5, 32, 38, 51, 79, 179, 224, 234, 313]\n",
            "100\n",
            "[0, 5, 32, 38, 51, 79, 179, 224, 234, 313]\n",
            "100\n",
            "[0, 5, 32, 38, 51, 79, 179, 224, 234, 313]\n",
            "100\n",
            "[0, 5, 32, 38, 51, 79, 179, 224, 234, 313]\n",
            "13\n",
            "[0, 5, 32, 38, 51, 79, 179, 224, 234, 313]\n",
            "45\n",
            "[0, 5, 32, 38, 51, 79, 179, 224, 234, 313]\n",
            "100\n",
            "[0, 5, 32, 38, 51, 79, 179, 224, 234, 313]\n",
            "79\n",
            "[0, 5, 32, 38, 51, 79, 179, 224, 234, 313]\n",
            "100\n",
            "[0, 5, 32, 38, 51, 79, 179, 224, 234, 313]\n",
            "28\n",
            "[0, 5, 32, 38, 51, 79, 179, 224, 234, 313]\n",
            "45\n",
            "[0, 5, 32, 38, 51, 79, 179, 224, 234, 313]\n",
            "45\n",
            "[0, 5, 32, 38, 51, 79, 179, 224, 234, 313]\n",
            "45\n",
            "[0, 5, 32, 38, 51, 79, 179, 224, 234, 313]\n",
            "79\n",
            "[0, 5, 32, 38, 51, 79, 179, 224, 234, 313]\n",
            "28\n",
            "[0, 5, 32, 38, 51, 79, 179, 224, 234, 313]\n",
            "79\n",
            "[0, 5, 32, 38, 51, 79, 179, 224, 234, 313]\n",
            "100\n",
            "[0, 5, 32, 38, 51, 79, 179, 224, 234, 313]\n",
            "45\n",
            "[0, 5, 32, 38, 51, 79, 179, 224, 234, 313]\n",
            "79\n",
            "[0, 5, 32, 38, 51, 79, 179, 224, 234, 313]\n",
            "79\n",
            "[0, 5, 32, 38, 51, 79, 179, 224, 234, 313]\n",
            "100\n",
            "[0, 5, 32, 38, 51, 79, 179, 224, 234, 313]\n",
            "28\n",
            "[0, 5, 32, 38, 51, 79, 179, 224, 234, 313]\n",
            "79\n",
            "[0, 5, 32, 38, 51, 79, 179, 224, 234, 313]\n",
            "79\n",
            "[0, 5, 32, 38, 51, 79, 179, 224, 234, 313]\n",
            "13\n",
            "[0, 5, 32, 38, 51, 79, 179, 224, 234, 313]\n",
            "100\n",
            "[0, 5, 32, 38, 51, 79, 179, 224, 234, 313]\n",
            "100\n",
            "[0, 5, 32, 38, 51, 79, 179, 224, 234, 313]\n",
            "100\n",
            "[0, 5, 32, 38, 51, 79, 179, 224, 234, 313]\n",
            "79\n",
            "[0, 5, 32, 38, 51, 79, 179, 224, 234, 313]\n",
            "27\n",
            "[0, 5, 32, 38, 51, 79, 179, 224, 234, 313]\n",
            "79\n",
            "[0, 5, 32, 38, 51, 79, 179, 224, 234, 313]\n",
            "27\n",
            "[0, 5, 32, 38, 51, 79, 179, 224, 234, 313]\n",
            "45\n",
            "[0, 5, 32, 38, 51, 79, 179, 224, 234, 313]\n",
            "100\n",
            "[0, 5, 32, 38, 51, 79, 179, 224, 234, 313]\n",
            "28\n",
            "[0, 5, 32, 38, 51, 79, 179, 224, 234, 313]\n",
            "45\n",
            "[0, 5, 32, 38, 51, 79, 179, 224, 234, 313]\n",
            "45\n",
            "[0, 5, 32, 38, 51, 79, 179, 224, 234, 313]\n",
            "79\n",
            "[0, 5, 32, 38, 51, 79, 179, 224, 234, 313]\n",
            "79\n",
            "[0, 5, 32, 38, 51, 79, 179, 224, 234, 313]\n",
            "79\n",
            "[0, 5, 32, 38, 51, 79, 179, 224, 234, 313]\n",
            "100\n",
            "[0, 5, 32, 38, 51, 79, 179, 224, 234, 313]\n",
            "10\n",
            "[0, 5, 32, 38, 51, 79, 179, 224, 234, 313]\n",
            "100\n",
            "[0, 5, 32, 38, 51, 79, 179, 224, 234, 313]\n",
            "13\n",
            "[0, 5, 32, 38, 51, 79, 179, 224, 234, 313]\n",
            "13\n",
            "[0, 5, 32, 38, 51, 79, 179, 224, 234, 313]\n",
            "27\n",
            "[0, 5, 32, 38, 51, 79, 179, 224, 234, 313]\n",
            "100\n",
            "[0, 5, 32, 38, 51, 79, 179, 224, 234, 313]\n",
            "100\n",
            "[0, 5, 32, 38, 51, 79, 179, 224, 234, 313]\n",
            "27\n",
            "[0, 5, 32, 38, 51, 79, 179, 224, 234, 313]\n",
            "45\n",
            "[0, 5, 32, 38, 51, 79, 179, 224, 234, 313]\n",
            "100\n",
            "[0, 5, 32, 38, 51, 79, 179, 224, 234, 313]\n",
            "100\n",
            "[0, 5, 32, 38, 51, 79, 179, 224, 234, 313]\n",
            "45\n",
            "[0, 5, 32, 38, 51, 79, 179, 224, 234, 313]\n",
            "79\n",
            "[0, 5, 32, 38, 51, 79, 179, 224, 234, 313]\n",
            "79\n",
            "[0, 5, 32, 38, 51, 79, 179, 224, 234, 313]\n",
            "28\n",
            "[0, 5, 32, 38, 51, 79, 179, 224, 234, 313]\n",
            "45\n",
            "[0, 5, 32, 38, 51, 79, 179, 224, 234, 313]\n",
            "10\n",
            "[0, 5, 32, 38, 51, 79, 179, 224, 234, 313]\n",
            "13\n",
            "[0, 5, 32, 38, 51, 79, 179, 224, 234, 313]\n",
            "100\n",
            "[0, 5, 32, 38, 51, 79, 179, 224, 234, 313]\n",
            "10\n",
            "[0, 5, 32, 38, 51, 79, 179, 224, 234, 313]\n",
            "45\n",
            "[0, 5, 32, 38, 51, 79, 179, 224, 234, 313]\n",
            "28\n",
            "[0, 5, 32, 38, 51, 79, 179, 224, 234, 313]\n",
            "28\n",
            "[0, 5, 32, 38, 51, 79, 179, 224, 234, 313]\n",
            "79\n",
            "[0, 5, 32, 38, 51, 79, 179, 224, 234, 313]\n",
            "45\n",
            "[0, 5, 32, 38, 51, 79, 179, 224, 234, 313]\n",
            "79\n",
            "[0, 5, 32, 38, 51, 79, 179, 224, 234, 313]\n",
            "100\n",
            "[0, 5, 32, 38, 51, 79, 179, 224, 234, 313]\n",
            "100\n",
            "[0, 5, 32, 38, 51, 79, 179, 224, 234, 313]\n",
            "100\n",
            "[0, 5, 32, 38, 51, 79, 179, 224, 234, 313]\n",
            "100\n",
            "[0, 5, 32, 38, 51, 79, 179, 224, 234, 313]\n",
            "28\n",
            "[0, 5, 32, 38, 51, 79, 179, 224, 234, 313]\n",
            "100\n",
            "[0, 5, 32, 38, 51, 79, 179, 224, 234, 313]\n",
            "45\n"
          ]
        }
      ]
    },
    {
      "cell_type": "markdown",
      "metadata": {
        "id": "D1xQy2WWB-kq"
      },
      "source": [
        "<h3> Q3: Replace the digits in the string with #</h3>\n",
        "\n",
        "consider a string that will have digits in that, we need to remove all the not digits and replace the digits with #\n",
        "<pre>\n",
        "Ex 1: A = 234                Output: ###\n",
        "Ex 2: A = a2b3c4             Output: ###\n",
        "Ex 3: A = abc                Output:   (empty string)\n",
        "Ex 5: A = #2a$#b%c%561#      Output: ####\n",
        "</pre>"
      ]
    },
    {
      "cell_type": "code",
      "metadata": {
        "id": "fxczi2jzB-kr",
        "colab": {
          "base_uri": "https://localhost:8080/"
        },
        "outputId": "c1f7d7b1-02c8-4d97-d817-d38711ef86ae"
      },
      "source": [
        "import re\n",
        "# write your python code here\n",
        "# you can take the above example as sample input for your program to test\n",
        "# it should work for any general input try not to hard code for only given input examples\n",
        "\n",
        "# you can free to change all these codes/structure\n",
        "# String: it will be the input to your program\n",
        "def replace_digits(s):\n",
        "    # write your code\n",
        "    res = ''\n",
        "    for e in s:\n",
        "      # checking if the difference between ascii of 0 and the element 'e' in s lies between 0 to 9\n",
        "      if(ord(e) - ord('0') in range (0, 10)):\n",
        "        res +='#'\n",
        "    return(res) # modified string which is after replacing the # with digits\n",
        "\n",
        "print(replace_digits('a2b3c4'))\n",
        "print(replace_digits('234'))\n",
        "print(replace_digits('abc'))\n",
        "print(replace_digits('#2a$#b%c%561#'))"
      ],
      "execution_count": 25,
      "outputs": [
        {
          "output_type": "stream",
          "name": "stdout",
          "text": [
            "###\n",
            "###\n",
            "\n",
            "####\n"
          ]
        }
      ]
    },
    {
      "cell_type": "markdown",
      "metadata": {
        "id": "j7h0Ywg7B-kw"
      },
      "source": [
        "<h3> Q4: Students marks dashboard</h3>\n",
        "\n",
        "consider the marks list of class students given two lists <br>\n",
        "Students = ['student1','student2','student3','student4','student5','student6','student7','student8','student9','student10'] <br>\n",
        "Marks = [45, 78, 12, 14, 48, 43, 45, 98, 35, 80] <br>\n",
        "from the above two lists the Student[0] got Marks[0],  Student[1] got Marks[1] and so on <br><br>\n",
        "your task is to print the name of students\n",
        "<strong>a. Who got top 5 ranks, in the descending order of marks</strong> <br>\n",
        "<strong>b. Who got least 5 ranks, in the increasing order of marks</strong><br>\n",
        "<strong>d. Who got marks between  &gt;25th percentile &lt;75th percentile, in the increasing order of marks</strong>\n",
        "\n",
        "<pre>\n",
        "Ex 1: \n",
        "Students=['student1','student2','student3','student4','student5','student6','student7','student8','student9','student10'] \n",
        "Marks = [45, 78, 12, 14, 48, 43, 47, 98, 35, 80]\n",
        "a. \n",
        "student8  98\n",
        "student10 80\n",
        "student2  78\n",
        "student5  48\n",
        "student7  47\n",
        "b.\n",
        "student3 12\n",
        "student4 14\n",
        "student9 35\n",
        "student6 43\n",
        "student1 45\n",
        "c.\n",
        "student9 35\n",
        "student6 43\n",
        "student1 45\n",
        "student7 47\n",
        "student5 48\n",
        "</pre>"
      ]
    },
    {
      "cell_type": "code",
      "metadata": {
        "id": "dFeOlEdU17k6"
      },
      "source": [
        "Students=['student1','student2','student3','student4','student5','student6','student7','student8','student9','student10'] \n",
        "Marks = [45, 78, 12, 14, 48, 43, 47, 98, 35, 80]"
      ],
      "execution_count": 26,
      "outputs": []
    },
    {
      "cell_type": "code",
      "metadata": {
        "id": "cxPJgItsB-kx"
      },
      "source": [
        "import math\n",
        "# you can free to change all these codes/structure\n",
        "def sort_by_marks(student_marks):\n",
        "    for i in range (len(student_marks)):\n",
        "      for j in range(i+1, len(student_marks)):\n",
        "        if(student_marks[i][1] > student_marks[j][1] ):\n",
        "          temp = student_marks[i]\n",
        "          student_marks[i] = student_marks[j]\n",
        "          student_marks[j] = temp\n",
        "    return student_marks\n",
        "\n",
        "def display_dash_board(students, marks):\n",
        "\n",
        "    student_marks = []\n",
        "    # store marks and student in a list of tuple\n",
        "    for i in range(len(Marks)):\n",
        "      student_marks.append((Students[i], Marks[i]))\n",
        "\n",
        "    # sort in ascending order by value of marks\n",
        "    sort_by_marks(student_marks)\n",
        "    \n",
        "    # top_5_students\n",
        "    top_5_students = student_marks[-5:][::-1]\n",
        "    # least_5_students\n",
        "    least_5_students = student_marks[0:5]\n",
        "    # students within 25 and 75\n",
        "    index_25 = math.floor(0.25 * len(student_marks))\n",
        "    index_75 = math.floor(0.75 * len(student_marks))\n",
        "    students_within_25_and_75 = student_marks[index_25: index_75]\n",
        "    return top_5_students, least_5_students, students_within_25_and_75\n",
        "\n",
        "top_5_students, least_5_students, students_within_25_and_75 = display_dash_board(Students, Marks)\n"
      ],
      "execution_count": 27,
      "outputs": []
    },
    {
      "cell_type": "code",
      "metadata": {
        "colab": {
          "base_uri": "https://localhost:8080/"
        },
        "id": "zxMhFbyYOMGG",
        "outputId": "409baf8c-a7e4-44dc-c7a3-ab5f5cb98458"
      },
      "source": [
        "print(\"Students = \", Students)\n",
        "print(\"Marks = \", Marks)\n",
        "print(\"a.\")\n",
        "for e in top_5_students:\n",
        "  print(e[0], \" \", e[1])\n",
        "print(\"b.\")\n",
        "for e in least_5_students:\n",
        "  print(e[0], \" \", e[1])\n",
        "print(\"c.\")\n",
        "print(\"a.\")\n",
        "for e in students_within_25_and_75:\n",
        "  print(e[0], \" \", e[1])"
      ],
      "execution_count": 28,
      "outputs": [
        {
          "output_type": "stream",
          "name": "stdout",
          "text": [
            "Students =  ['student1', 'student2', 'student3', 'student4', 'student5', 'student6', 'student7', 'student8', 'student9', 'student10']\n",
            "Marks =  [45, 78, 12, 14, 48, 43, 47, 98, 35, 80]\n",
            "a.\n",
            "student8   98\n",
            "student10   80\n",
            "student2   78\n",
            "student5   48\n",
            "student7   47\n",
            "b.\n",
            "student3   12\n",
            "student4   14\n",
            "student9   35\n",
            "student6   43\n",
            "student1   45\n",
            "c.\n",
            "a.\n",
            "student9   35\n",
            "student6   43\n",
            "student1   45\n",
            "student7   47\n",
            "student5   48\n"
          ]
        }
      ]
    },
    {
      "cell_type": "markdown",
      "metadata": {
        "id": "dqb28rUbsTiw"
      },
      "source": [
        "Mapping can be also be done using a dictionary which will make the code more efficient and clean"
      ]
    },
    {
      "cell_type": "markdown",
      "metadata": {
        "id": "qha0OhQHB-k1"
      },
      "source": [
        "<h3> Q5: Find the closest points</h3>\n",
        "\n",
        "consider you have given n data points in the form of list of tuples like S=[(x1,y1),(x2,y2),(x3,y3),(x4,y4),(x5,y5),..,(xn,yn)] and a point P=(p,q) <br> your task is to find 5 closest points(based on cosine distance) in S from P\n",
        "<br>cosine distance between two points (x,y) and (p,q) is defind as $cos^{-1}(\\frac{(x\\cdot p+y\\cdot q)}{\\sqrt(x^2+y^2)\\cdot\\sqrt(p^2+q^2)})$\n",
        "<pre>\n",
        "Ex:\n",
        "\n",
        "S= [(1,2),(3,4),(-1,1),(6,-7),(0, 6),(-5,-8),(-1,-1)(6,0),(1,-1)]\n",
        "P= (3,-4)\n",
        "<img src='https://i.imgur.com/vIFPOcG.jpg', width=300>\n",
        "Output:\n",
        "(6,-7)\n",
        "(1,-1)\n",
        "(6,0)\n",
        "(-5,-8)\n",
        "(-1,-1)\n",
        "</pre>"
      ]
    },
    {
      "cell_type": "code",
      "metadata": {
        "id": "XxosHM5t-udE"
      },
      "source": [
        "import math\n",
        "# function to find distance between 2 points\n",
        "def find_distance(A,  B):\n",
        "  dist = math.acos(((A[0]*B[0]) + (A[1] * B[1])) / ((math.sqrt(A[0]**2 + A[1]**2)) * (math.sqrt(B[0]**2 + B[1]**2))))\n",
        "  return dist"
      ],
      "execution_count": 29,
      "outputs": []
    },
    {
      "cell_type": "code",
      "metadata": {
        "id": "MoHOmvqzGnQc"
      },
      "source": [
        "# function to sort the array by distance - bubble sort used\n",
        "def sort_dist(res):\n",
        "  for i in range(len(res)):\n",
        "    for j in range(i+1, len(res)):\n",
        "      if(res[i][0] > res[j][0]):\n",
        "        temp = res[i]\n",
        "        res[i] = res[j]\n",
        "        res[j] = res[i]\n",
        "  return res"
      ],
      "execution_count": 30,
      "outputs": []
    },
    {
      "cell_type": "code",
      "metadata": {
        "id": "wA5I1g-2B-k2",
        "colab": {
          "base_uri": "https://localhost:8080/"
        },
        "outputId": "3af181df-b100-4ad5-ef57-f3ad61104e58"
      },
      "source": [
        "def closest_points_to_p(S, P):\n",
        "    # write your code here\n",
        "    dist = []\n",
        "    for point in S:\n",
        "      dist.append([find_distance(point, P), point])\n",
        "    # sort ascending order by value of distance\n",
        "    dist = sorted(dist)\n",
        "\n",
        "    result = []\n",
        "    for ele in dist:\n",
        "      result.append(ele[1])\n",
        "\n",
        "    return (result[:5])\n",
        "\n",
        "S= [(1,2),(3,4),(-1,1),(6,-7),(0, 6),(-5,-8),(-1,-1),(6,0),(1,-1)]\n",
        "P= (3,-4)\n",
        "points = closest_points_to_p(S, P)\n",
        "print(points)"
      ],
      "execution_count": 31,
      "outputs": [
        {
          "output_type": "stream",
          "name": "stdout",
          "text": [
            "[(6, -7), (1, -1), (6, 0), (-5, -8), (-1, -1)]\n"
          ]
        }
      ]
    },
    {
      "cell_type": "markdown",
      "metadata": {
        "id": "-g11jeAiB-k5"
      },
      "source": [
        "<h3> Q6: Find Which line separates oranges and apples</h3>\n",
        "consider you have given two set of data points in the form of list of tuples like \n",
        "<pre>\n",
        "Red =[(R11,R12),(R21,R22),(R31,R32),(R41,R42),(R51,R52),..,(Rn1,Rn2)]\n",
        "Blue=[(B11,B12),(B21,B22),(B31,B32),(B41,B42),(B51,B52),..,(Bm1,Bm2)]\n",
        "</pre>\n",
        "and set of line equations(in the string formate, i.e list of strings)\n",
        "<pre>\n",
        "Lines = [a1x+b1y+c1,a2x+b2y+c2,a3x+b3y+c3,a4x+b4y+c4,..,K lines]\n",
        "Note: you need to string parsing here and get the coefficients of x,y and intercept\n",
        "</pre>\n",
        "your task is to for each line that is given print \"YES\"/\"NO\", you will print yes, if all the red points are one side of the line and blue points are other side of the line, otherwise no\n",
        "<pre>\n",
        "Ex:\n",
        "Red= [(1,1),(2,1),(4,2),(2,4), (-1,4)]\n",
        "Blue= [(-2,-1),(-1,-2),(-3,-2),(-3,-1),(1,-3)]\n",
        "Lines=[\"1x+1y+0\",\"1x-1y+0\",\"1x+0y-3\",\"0x+1y-0.5\"]\n",
        "<img src='https://i.imgur.com/DoQf7mE.jpg' width=400>\n",
        "Output:\n",
        "YES\n",
        "NO\n",
        "NO\n",
        "YES\n",
        "</pre>"
      ]
    },
    {
      "cell_type": "code",
      "metadata": {
        "id": "eRxExaTRB-k6",
        "colab": {
          "base_uri": "https://localhost:8080/"
        },
        "outputId": "fa2c099a-0b35-47fd-8675-e371e898a50b"
      },
      "source": [
        "import math\n",
        "\n",
        "def i_am_the_one(red,blue,line):\n",
        "\n",
        "    # inserting * sign in the formula\n",
        "    formula = ''\n",
        "    for s in line:\n",
        "      if(s == 'x' or s == 'y'):\n",
        "        formula+='*'\n",
        "      formula += s\n",
        "\n",
        "    ds1, ds2= [], []\n",
        "\n",
        "    for val in red:\n",
        "      x=val[0]\n",
        "      y=val[1]\n",
        "      result = eval(formula) # https://stackoverflow.com/a/65696924/14049383 - referred this stackoverflow comment\n",
        "      ds1.append(result)\n",
        "    # check if all are of the same sign\n",
        "    res1 = all(item >= 0 for item in ds1) or all(item < 0 for item in ds1)\n",
        "\n",
        "\n",
        "    for val in blue:\n",
        "      x=val[0]\n",
        "      y=val[1]\n",
        "      result = eval(formula) # https://stackoverflow.com/a/65696924/14049383 - referred this stackoverflow comment\n",
        "      ds2.append(result)\n",
        "    # check if all are of the same sign\n",
        "    res2 = all(item >= 0 for item in ds2) or all(item < 0 for item in ds2)\n",
        "\n",
        "    if(res1 and res2):\n",
        "      if((ds1[0] > 0 and ds2[0]<0) or (ds1[0] < 0 and ds2[0] > 0)):\n",
        "        return 'YES'\n",
        "    return \"NO\"\n",
        "\n",
        "Red= [(1,1),(2,1),(4,2),(2,4), (-1,4)]\n",
        "Blue= [(-2,-1),(-1,-2),(-3,-2),(-3,-1),(1,-3)]\n",
        "Lines=[\"1x+1y+0\",\"1x-1y+0\",\"1x+0y-3\",\"0x+1y-0.5\"]\n",
        "\n",
        "for i in Lines:\n",
        "    yes_or_no = i_am_the_one(Red, Blue, i)\n",
        "    print(yes_or_no) # the returned value"
      ],
      "execution_count": 32,
      "outputs": [
        {
          "output_type": "stream",
          "name": "stdout",
          "text": [
            "YES\n",
            "NO\n",
            "NO\n",
            "YES\n"
          ]
        }
      ]
    },
    {
      "cell_type": "markdown",
      "metadata": {
        "id": "9OBpURbNB-k9"
      },
      "source": [
        "<h3> Q7: Filling the missing values in the specified formate</h3>\n",
        "You will be given a string with digits and '\\_'(missing value) symbols you have to replace the '\\_' symbols as explained \n",
        "<pre>\n",
        "Ex 1: _, _, _, 24 ==> 24/4, 24/4, 24/4, 24/4 i.e we. have distributed the 24 equally to all 4 places <br>\n",
        "Ex 2: 40, _, _, _, 60 ==> (60+40)/5,(60+40)/5,(60+40)/5,(60+40)/5,(60+40)/5 ==> 20, 20, 20, 20, 20 i.e. the sum of (60+40) is distributed qually to all 5 places<br>\n",
        "Ex 3: 80, _, _, _, _  ==> 80/5,80/5,80/5,80/5,80/5 ==> 16, 16, 16, 16, 16 i.e. the 80 is distributed qually to all 5 missing values that are right to it<br>\n",
        "Ex 4: _, _, 30, _, _, _, 50, _, _  \n",
        "==> we will fill the missing values from left to right \n",
        "    a. first we will distribute the 30 to left two missing values (10, 10, 10, _, _, _, 50, _, _)\n",
        "    b. now distribute the sum (10+50) missing values in between (10, 10, 12, 12, 12, 12, 12, _, _) \n",
        "    c. now we will distribute 12 to right side missing values (10, 10, 12, 12, 12, 12, 4, 4, 4)\n",
        "</pre>\n",
        "for a given string with comma seprate values, which will have both missing values numbers like ex: \"_, _, x, _, _, _\"\n",
        "you need fill the missing values\n",
        "\n",
        "Q: your program reads a string like ex: \"_, _, x, _, _, _\" and returns the filled sequence\n",
        "\n",
        "Ex: \n",
        "<pre>\n",
        "Input1: \"_,_,_,24\"\n",
        "Output1: 6,6,6,6\n",
        "\n",
        "Input2: \"40,_,_,_,60\"\n",
        "Output2: 20,20,20,20,20\n",
        "\n",
        "Input3: \"80,_,_,_,_\"\n",
        "Output3: 16,16,16,16,16\n",
        "\n",
        "Input4: \"_,_,30,_,_,_,50,_,_\"\n",
        "Output4: 10,10,12,12,12,12,4,4,4\n",
        "</pre>\n",
        "\n"
      ]
    },
    {
      "cell_type": "code",
      "metadata": {
        "id": "nZmpzHs_B-k-",
        "colab": {
          "base_uri": "https://localhost:8080/"
        },
        "outputId": "314be661-ebda-43e2-d6a1-ce26130a9319"
      },
      "source": [
        "# reference : https://stackoverflow.com/a/60429300/14049383\n",
        "\n",
        "def curve_smoothing(s):\n",
        "    lst=s.split(',')\n",
        "    for i in range(len(lst)):\n",
        "        if (lst[i]!='_'):\n",
        "            for j in range(i+1):\n",
        "                lst[j]=int(lst[i])//(i+1)\n",
        "            new_index=i\n",
        "            new_value=int(lst[i])\n",
        "            break\n",
        "    for i in range(new_index+1,len(lst)):\n",
        "        if (lst[i]!='_'):\n",
        "            temp=(new_value+int(lst[i]))//(i-new_index+1)\n",
        "            for j in range(new_index,i+1):\n",
        "                lst[j]=temp\n",
        "            new_index=i\n",
        "            new_value=int(lst[i])\n",
        "    try:\n",
        "        for i in range(new_index+1,len(lst)):\n",
        "            if not(lst[i].isdigit()):\n",
        "                count=lst.count('_')\n",
        "                break\n",
        "        temp1=new_value//(count+1)\n",
        "        for i in range(new_index,len(lst)):\n",
        "            lst[i]=temp1\n",
        "    except:\n",
        "        pass\n",
        "    return lst        \n",
        "          \n",
        "\n",
        "S=  \"_,_,_,24\"\n",
        "smoothed_values= curve_smoothing(S)\n",
        "print(smoothed_values)"
      ],
      "execution_count": 33,
      "outputs": [
        {
          "output_type": "stream",
          "name": "stdout",
          "text": [
            "[6, 6, 6, 6]\n"
          ]
        }
      ]
    },
    {
      "cell_type": "code",
      "metadata": {
        "colab": {
          "base_uri": "https://localhost:8080/"
        },
        "id": "BtL5DZ9haBoK",
        "outputId": "74c76e80-6ddc-4225-e4b0-02c7b3dd425d"
      },
      "source": [
        "#################### MY ATTEMPT #####################\n",
        "\n",
        "def fill_res(res, i, j, val):\n",
        "  for x in range(i, j+1):\n",
        "    res[x] = val\n",
        "\n",
        "def curve_smoothing(s):\n",
        "    arr = s.split(',')\n",
        "    res = [0]*len(arr)\n",
        "    i, j = 0, 0\n",
        "    cnt, right, left = 0, 0, 0\n",
        "    while(i<len(arr) and j<len(arr)):\n",
        "      if(arr[j]=='_'):\n",
        "        cnt+=1\n",
        "        j+=1\n",
        "      else:\n",
        "        right = int(arr[j])\n",
        "        if(i==0):          \n",
        "          val = (left+right)/(cnt+1)\n",
        "          fill_res(res, i, j, val)\n",
        "        else:         \n",
        "          val = (left+right)/(cnt+2)\n",
        "          fill_res(res, i, j, val)\n",
        "        i = j\n",
        "        left = val\n",
        "      \n",
        "        cnt = 0\n",
        "        j+=1\n",
        "        \n",
        "    if(i<len(arr)-1):\n",
        "        val = (left+0)/(cnt+1) \n",
        "        fill_res(res, i, len(arr)-1, val)\n",
        "\n",
        "    return res\n",
        "\n",
        "\n",
        "S=  \"_,_,_,24\"\n",
        "smoothed_values= curve_smoothing(S)\n",
        "print(smoothed_values)"
      ],
      "execution_count": 34,
      "outputs": [
        {
          "output_type": "stream",
          "name": "stdout",
          "text": [
            "[6.0, 6.0, 6.0, 6.0]\n"
          ]
        }
      ]
    },
    {
      "cell_type": "markdown",
      "metadata": {
        "id": "RBz4pzlfB-lB"
      },
      "source": [
        "<h3> Q8: Filling the missing values in the specified formate</h3>\n",
        "You will be given a list of lists, each sublist will be of length 2 i.e. [[x,y],[p,q],[l,m]..[r,s]]\n",
        "consider its like a martrix of n rows and two columns\n",
        "1. the first column F will contain only 5 uniques values (F1, F2, F3, F4, F5)\n",
        "2. the second column S will contain only 3 uniques values (S1, S2, S3)\n",
        "<pre>\n",
        "your task is to find\n",
        "a. Probability of P(F=F1|S==S1), P(F=F1|S==S2), P(F=F1|S==S3)\n",
        "b. Probability of P(F=F2|S==S1), P(F=F2|S==S2), P(F=F2|S==S3)\n",
        "c. Probability of P(F=F3|S==S1), P(F=F3|S==S2), P(F=F3|S==S3)\n",
        "d. Probability of P(F=F4|S==S1), P(F=F4|S==S2), P(F=F4|S==S3)\n",
        "e. Probability of P(F=F5|S==S1), P(F=F5|S==S2), P(F=F5|S==S3)\n",
        "</pre>\n",
        "Ex:\n",
        "\n",
        "<pre>\n",
        "[[F1,S1],[F2,S2],[F3,S3],[F1,S2],[F2,S3],[F3,S2],[F2,S1],[F4,S1],[F4,S3],[F5,S1]]\n",
        "\n",
        "a. P(F=F1|S==S1)=1/4, P(F=F1|S==S2)=1/3, P(F=F1|S==S3)=0/3\n",
        "b. P(F=F2|S==S1)=1/4, P(F=F2|S==S2)=1/3, P(F=F2|S==S3)=1/3\n",
        "c. P(F=F3|S==S1)=0/4, P(F=F3|S==S2)=1/3, P(F=F3|S==S3)=1/3\n",
        "d. P(F=F4|S==S1)=1/4, P(F=F4|S==S2)=0/3, P(F=F4|S==S3)=1/3\n",
        "e. P(F=F5|S==S1)=1/4, P(F=F5|S==S2)=0/3, P(F=F5|S==S3)=0/3\n",
        "</pre>\n",
        "\n",
        "\n"
      ]
    },
    {
      "cell_type": "code",
      "metadata": {
        "id": "e-1giz1MB-lC",
        "colab": {
          "base_uri": "https://localhost:8080/"
        },
        "outputId": "a7f8440b-52cd-4b1f-cb5c-f3a082ac8ea8"
      },
      "source": [
        "# you can free to change all these codes/structure\n",
        "def compute_conditional_probabilites(A):\n",
        "    countS1=0\n",
        "    countS2=0\n",
        "    countS3=0\n",
        "    for ele in A:\n",
        "      if(ele[1]=='S1'):\n",
        "        countS1=1+countS1\n",
        "      elif(ele[1]=='S2'):\n",
        "        countS2=1+countS2\n",
        "      else:\n",
        "        countS3=1+countS3\n",
        "    #finding conditional probabilities for all\n",
        "    countF1S1=0\n",
        "    countF1S2=0\n",
        "    countF1S3=0\n",
        "    countF2S1=0\n",
        "    countF2S2=0\n",
        "    countF2S3=0\n",
        "    countF3S1=0\n",
        "    countF3S2=0\n",
        "    countF3S3=0\n",
        "    countF4S1=0\n",
        "    countF4S2=0\n",
        "    countF4S3=0\n",
        "    countF5S1=0\n",
        "    countF5S2=0\n",
        "    countF5S3=0\n",
        "    for ele in A:\n",
        "      if(ele[0]=='F1'):\n",
        "        if(ele[1]=='S1'):\n",
        "          countF1S1=1+countF1S1\n",
        "        elif(ele[1]=='S2'):\n",
        "          countF1S2=1+countF1S2\n",
        "        else:\n",
        "          countF1S3=1+countF1S3\n",
        "\n",
        "        \n",
        "      elif(ele[0]=='F2'):\n",
        "        if(ele[1]=='S1'):\n",
        "          countF2S1=1+countF2S1\n",
        "        elif(ele[1]=='S2'):\n",
        "          countF2S2=1+countF2S2\n",
        "        else:\n",
        "          countF2S3=1+countF2S3\n",
        "\n",
        "      elif(ele[0]=='F3'):\n",
        "        if(ele[1]=='S1'):\n",
        "          countF3S1=1+countF3S1\n",
        "        elif(ele[1]=='S2'):\n",
        "          countF3S2=1+countF3S2\n",
        "        else:\n",
        "          countF3S3=1+countF3S3\n",
        "      elif(ele[0]=='F4'):\n",
        "        if(ele[1]=='S1'):\n",
        "          countF4S1=1+countF4S1\n",
        "        elif(ele[1]=='S2'):\n",
        "          countF4S2=1+countF4S2\n",
        "        else:\n",
        "          countF4S3=1+countF4S3\n",
        "      else:\n",
        "        if(ele[1]=='S1'):\n",
        "          countF5S1=1+countF5S1\n",
        "        elif(ele[1]=='S2'):\n",
        "          countF5S2=1+countF5S2\n",
        "        else:\n",
        "          countF5S3=1+countF5S3\n",
        "    \n",
        "    print(\"P(F=F1|S==S1)=\",countF1S1 ,\"/\",countS1,\",\",\"P(F=F1|S==S2)=\",countF1S2 ,\"/\",countS2,\",\",\"P(F=F1|S==S3)=\",countF1S3 ,\"/\",countS3)\n",
        "    print(\"P(F=F2|S==S1)=\",countF2S1 ,\"/\",countS1,\",\",\"P(F=F2|S==S2)=\",countF2S2 ,\"/\",countS2,\",\",\"P(F=F2|S==S3)=\",countF2S3 ,\"/\",countS3)\n",
        "    print(\"P(F=F3|S==S1)=\",countF3S1 ,\"/\",countS1,\",\",\"P(F=F3|S==S2)=\",countF3S2 ,\"/\",countS2,\",\",\"P(F=F3|S==S3)=\",countF3S3 ,\"/\",countS3)\n",
        "    print(\"P(F=F4|S==S1)=\",countF4S1 ,\"/\",countS1,\",\",\"P(F=F4|S==S2)=\",countF4S2 ,\"/\",countS2,\",\",\"P(F=F4|S==S3)=\",countF4S3 ,\"/\",countS3)\n",
        "    print(\"P(F=F5|S==S1)=\",countF5S1 ,\"/\",countS1,\",\",\"P(F=F5|S==S2)=\",countF5S2 ,\"/\",countS2,\",\",\"P(F=F5|S==S3)=\",countF5S3 ,\"/\",countS3)\n",
        "\n",
        "\n",
        "A = [['F1','S1'],['F2','S2'],['F3','S3'],['F1','S2'],['F2','S3'],['F3','S2'],['F2','S1'],['F4','S1'],['F4','S3'],['F5','S1']]\n",
        "\n",
        "compute_conditional_probabilites(A)"
      ],
      "execution_count": 35,
      "outputs": [
        {
          "output_type": "stream",
          "name": "stdout",
          "text": [
            "P(F=F1|S==S1)= 1 / 4 , P(F=F1|S==S2)= 1 / 3 , P(F=F1|S==S3)= 0 / 3\n",
            "P(F=F2|S==S1)= 1 / 4 , P(F=F2|S==S2)= 1 / 3 , P(F=F2|S==S3)= 1 / 3\n",
            "P(F=F3|S==S1)= 0 / 4 , P(F=F3|S==S2)= 1 / 3 , P(F=F3|S==S3)= 1 / 3\n",
            "P(F=F4|S==S1)= 1 / 4 , P(F=F4|S==S2)= 0 / 3 , P(F=F4|S==S3)= 1 / 3\n",
            "P(F=F5|S==S1)= 1 / 4 , P(F=F5|S==S2)= 0 / 3 , P(F=F5|S==S3)= 0 / 3\n"
          ]
        }
      ]
    },
    {
      "cell_type": "markdown",
      "metadata": {
        "id": "n4HS87QmB-lF"
      },
      "source": [
        "<h3> Q9: Given two sentances S1, S2</h3>\n",
        "You will be given two sentances S1, S2 your task is to find \n",
        "<pre>\n",
        "a. Number of common words between S1, S2\n",
        "b. Words in S1 but not in S2\n",
        "c. Words in S2 but not in S1\n",
        "</pre>\n",
        "\n",
        "Ex: \n",
        "<pre>\n",
        "S1= \"the first column F will contain only 5 uniques values\"\n",
        "S2= \"the second column S will contain only 3 uniques values\"\n",
        "Output:\n",
        "a. 7\n",
        "b. ['first','F','5']\n",
        "c. ['second','S','3']\n",
        "</pre>"
      ]
    },
    {
      "cell_type": "code",
      "metadata": {
        "id": "Ez7hlHK0B-lG",
        "colab": {
          "base_uri": "https://localhost:8080/"
        },
        "outputId": "4215c26d-a1d3-4831-d5e5-4c5e0b2d184f"
      },
      "source": [
        "# you can free to change all these codes/structure\n",
        "def string_features(S1, S2):\n",
        "    S1.lower()\n",
        "    S2.lower()\n",
        "    s1_words = set(S1.split())\n",
        "    s2_words = set(S2.split())\n",
        "    a = len(s1_words.intersection(s2_words))\n",
        "    b = s1_words - s2_words\n",
        "    c = s2_words - s1_words\n",
        "    return a, b, c\n",
        "\n",
        "S1= \"the first column F will contain only 5 uniques values\"\n",
        "S2= \"the second column S will contain only 3 uniques values\"\n",
        "a,b,c = string_features(S1, S2)\n",
        "print(a)\n",
        "print(b)\n",
        "print(c)\n"
      ],
      "execution_count": 36,
      "outputs": [
        {
          "output_type": "stream",
          "name": "stdout",
          "text": [
            "7\n",
            "{'5', 'F', 'first'}\n",
            "{'S', 'second', '3'}\n"
          ]
        }
      ]
    },
    {
      "cell_type": "markdown",
      "metadata": {
        "id": "XefXVEjCB-lI"
      },
      "source": [
        "<h3> Q10: Given two sentances S1, S2</h3>\n",
        "You will be given a list of lists, each sublist will be of length 2 i.e. [[x,y],[p,q],[l,m]..[r,s]]\n",
        "consider its like a martrix of n rows and two columns\n",
        "\n",
        "a. the first column Y will contain interger values <br>\n",
        "b. the second column $Y_{score}$ will be having float values <br>\n",
        "Your task is to find the value of $f(Y,Y_{score}) = -1*\\frac{1}{n}\\Sigma_{for each Y,Y_{score} pair}(Ylog10(Y_{score})+(1-Y)log10(1-Y_{score}))$ here n is the number of rows in the matrix\n",
        "<pre>\n",
        "Ex:\n",
        "[[1, 0.4], [0, 0.5], [0, 0.9], [0, 0.3], [0, 0.6], [1, 0.1], [1, 0.9], [1, 0.8]]\n",
        "output:\n",
        "0.4243099\n",
        "</pre>\n",
        "$\\frac{-1}{8}\\cdot((1\\cdot log_{10}(0.4)+0\\cdot log_{10}(0.6))+(0\\cdot log_{10}(0.5)+1\\cdot log_{10}(0.5)) + ... + (1\\cdot log_{10}(0.8)+0\\cdot log_{10}(0.2)) )$"
      ]
    },
    {
      "cell_type": "code",
      "metadata": {
        "id": "N9zkagyNB-lJ",
        "colab": {
          "base_uri": "https://localhost:8080/"
        },
        "outputId": "1d2d694b-1ff7-4736-8cbe-f7823257602f"
      },
      "source": [
        "import math\n",
        "\n",
        "\n",
        "# you can free to change all these codes/structure\n",
        "def compute_log_loss(A):\n",
        "    # your code\n",
        "    summation_value = 0\n",
        "    for li in A:\n",
        "      summation_value += ((li[0] * math.log10(li[1])) + ((1-li[0]) * math.log10(1-li[1])))\n",
        "    loss = -1 * summation_value / len(A)\n",
        "    return loss\n",
        "\n",
        "A = [[1, 0.4], [0, 0.5], [0, 0.9], [0, 0.3], [0, 0.6], [1, 0.1], [1, 0.9], [1, 0.8]]\n",
        "loss = compute_log_loss(A)\n",
        "print(round(loss, 7))"
      ],
      "execution_count": 37,
      "outputs": [
        {
          "output_type": "stream",
          "name": "stdout",
          "text": [
            "0.4243099\n"
          ]
        }
      ]
    },
    {
      "cell_type": "code",
      "metadata": {
        "id": "VYDWwWPKkvGg"
      },
      "source": [
        ""
      ],
      "execution_count": null,
      "outputs": []
    }
  ]
}