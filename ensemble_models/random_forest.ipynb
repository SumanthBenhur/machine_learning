{
 "cells": [
  {
   "cell_type": "markdown",
   "metadata": {
    "id": "3sNKZq4XrXQh"
   },
   "source": [
    "# <font color='red'><b>Bootstrap assignment</b> </font>"
   ]
  },
  {
   "cell_type": "markdown",
   "metadata": {
    "id": "RAHap1Z3FZC-"
   },
   "source": [
    "<b>There will be some functions that start with the word \"grader\" ex: grader_sampples(), grader_30().. etc, you should not change those function definition.\n",
    "\n",
    "Every Grader function has to return True.</b>"
   ]
  },
  {
   "cell_type": "markdown",
   "metadata": {
    "id": "cuxBq_bvrwh2"
   },
   "source": [
    "<font color='blue'> <b>Importing packages</b> </font>"
   ]
  },
  {
   "cell_type": "code",
   "execution_count": 22,
   "metadata": {
    "id": "m6ag91ijrQOs"
   },
   "outputs": [],
   "source": [
    "import numpy as np # importing numpy for numerical computation\n",
    "from sklearn.datasets import load_boston # here we are using sklearn's boston dataset\n",
    "from sklearn.metrics import mean_squared_error # importing mean_squared_error metric\n",
    "from tqdm import tqdm\n",
    "from sklearn.tree import DecisionTreeRegressor\n",
    "from sklearn.metrics import mean_squared_error\n",
    "import sys"
   ]
  },
  {
   "cell_type": "code",
   "execution_count": 23,
   "metadata": {
    "colab": {
     "base_uri": "https://localhost:8080/"
    },
    "id": "CcHOsONTt1K_",
    "outputId": "68b9301c-b492-46e7-9cd3-a3a4fd60b3de"
   },
   "outputs": [
    {
     "name": "stderr",
     "output_type": "stream",
     "text": [
      "/usr/local/lib/python3.7/dist-packages/sklearn/utils/deprecation.py:87: FutureWarning: Function load_boston is deprecated; `load_boston` is deprecated in 1.0 and will be removed in 1.2.\n",
      "\n",
      "    The Boston housing prices dataset has an ethical problem. You can refer to\n",
      "    the documentation of this function for further details.\n",
      "\n",
      "    The scikit-learn maintainers therefore strongly discourage the use of this\n",
      "    dataset unless the purpose of the code is to study and educate about\n",
      "    ethical issues in data science and machine learning.\n",
      "\n",
      "    In this special case, you can fetch the dataset from the original\n",
      "    source::\n",
      "\n",
      "        import pandas as pd\n",
      "        import numpy as np\n",
      "\n",
      "\n",
      "        data_url = \"http://lib.stat.cmu.edu/datasets/boston\"\n",
      "        raw_df = pd.read_csv(data_url, sep=\"\\s+\", skiprows=22, header=None)\n",
      "        data = np.hstack([raw_df.values[::2, :], raw_df.values[1::2, :2]])\n",
      "        target = raw_df.values[1::2, 2]\n",
      "\n",
      "    Alternative datasets include the California housing dataset (i.e.\n",
      "    :func:`~sklearn.datasets.fetch_california_housing`) and the Ames housing\n",
      "    dataset. You can load the datasets as follows::\n",
      "\n",
      "        from sklearn.datasets import fetch_california_housing\n",
      "        housing = fetch_california_housing()\n",
      "\n",
      "    for the California housing dataset and::\n",
      "\n",
      "        from sklearn.datasets import fetch_openml\n",
      "        housing = fetch_openml(name=\"house_prices\", as_frame=True)\n",
      "\n",
      "    for the Ames housing dataset.\n",
      "    \n",
      "  warnings.warn(msg, category=FutureWarning)\n"
     ]
    }
   ],
   "source": [
    "boston = load_boston()\n",
    "x=boston.data #independent variables\n",
    "y=boston.target #target variable"
   ]
  },
  {
   "cell_type": "code",
   "execution_count": 24,
   "metadata": {
    "colab": {
     "base_uri": "https://localhost:8080/"
    },
    "id": "pc1htEFYuLRj",
    "outputId": "508587f2-da9e-4cae-e26e-078e643ca7d7"
   },
   "outputs": [
    {
     "data": {
      "text/plain": [
       "(506,)"
      ]
     },
     "execution_count": 24,
     "metadata": {},
     "output_type": "execute_result"
    }
   ],
   "source": [
    "x.shape\n",
    "y.shape"
   ]
  },
  {
   "cell_type": "code",
   "execution_count": 25,
   "metadata": {
    "colab": {
     "base_uri": "https://localhost:8080/"
    },
    "id": "kQle3T_wuOa3",
    "outputId": "677d220b-c993-4c2a-ffb3-55f1ff3b1c92"
   },
   "outputs": [
    {
     "data": {
      "text/plain": [
       "array([24. , 21.6, 34.7, 33.4, 36.2])"
      ]
     },
     "execution_count": 25,
     "metadata": {},
     "output_type": "execute_result"
    }
   ],
   "source": [
    "x[:5]\n",
    "y[:5]"
   ]
  },
  {
   "cell_type": "markdown",
   "metadata": {
    "id": "AEa_HqRZloH4"
   },
   "source": [
    "## <font color='red'><b>Task 1</b></font>"
   ]
  },
  {
   "cell_type": "markdown",
   "metadata": {
    "id": "YQ5q8IxHNRk3"
   },
   "source": [
    "<font color='red'> <b>Step - 1</b></font>"
   ]
  },
  {
   "cell_type": "markdown",
   "metadata": {
    "id": "GJCFCaOzl7Mr"
   },
   "source": [
    "*  <font color='blue'><b>Creating samples</b></font><br>\n",
    "    <b> Randomly create 30 samples from the whole boston data points</b>\n",
    "    *  Creating each sample: Consider any random 303(60% of 506) data points from whole data set and then replicate any 203 points from the sampled points\n",
    "    \n",
    "     For better understanding of this procedure lets check this examples, assume we have 10 data points [1,2,3,4,5,6,7,8,9,10], first we take 6 data points randomly , consider we have selected [4, 5, 7, 8, 9, 3] now we will replicate 4 points from [4, 5, 7, 8, 9, 3], consder they are [5, 8, 3,7] so our final sample will be [4, 5, 7, 8, 9, 3, 5, 8, 3,7]\n",
    "* <font color='blue'><b> Create 30 samples </b></font>\n",
    "    *  Note that as a part of the Bagging when you are taking the random samples <b>make sure each of the sample will have different set of columns</b><br>\n",
    "Ex: Assume we have 10 columns[1 ,2 ,3 ,4 ,5 ,6 ,7 ,8 ,9 ,10] for the first sample we will select [3, 4, 5, 9, 1, 2] and for the second sample  [7, 9, 1, 4, 5, 6, 2] and so on...\n",
    "Make sure each sample will have atleast 3 feautres/columns/attributes\n",
    "\n",
    "* <font color='red'><b> Note - While selecting the random 60% datapoints from the whole data, make sure that the selected datapoints are all exclusive, repetition is not allowed. </b></font>"
   ]
  },
  {
   "cell_type": "markdown",
   "metadata": {
    "id": "zUqFEBSvNjCa"
   },
   "source": [
    "<font color='red'><b>Step - 2 </b></font>"
   ]
  },
  {
   "cell_type": "markdown",
   "metadata": {
    "id": "uqi9AhCYNq3Z"
   },
   "source": [
    "<font color='blue'><b>Building High Variance Models on each of the sample and finding train MSE value</b></font>"
   ]
  },
  {
   "cell_type": "markdown",
   "metadata": {
    "id": "-lLBnZHXOFln"
   },
   "source": [
    "*  Build a regression trees on each of 30 samples.\n",
    "*  Computed the predicted values of each data point(506 data points) in your corpus.\n",
    "*  Predicted house price of $i^{th}$ data point $y^{i}_{pred} =  \\frac{1}{30}\\sum_{k=1}^{30}(\\text{predicted value of } x^{i} \\text{ with } k^{th} \\text{ model})$\n",
    "*  Now calculate the $MSE =  \\frac{1}{506}\\sum_{i=1}^{506}(y^{i} - y^{i}_{pred})^{2}$"
   ]
  },
  {
   "cell_type": "markdown",
   "metadata": {
    "id": "Kls23JLnSN23"
   },
   "source": [
    "<font color='red'> <b>Step - 3 </b></font>"
   ]
  },
  {
   "cell_type": "markdown",
   "metadata": {
    "id": "rz2GchkGSWnh"
   },
   "source": [
    "*  <font color='blue'><b>Calculating the OOB score </b></font>"
   ]
  },
  {
   "cell_type": "markdown",
   "metadata": {
    "id": "DGHkVV2kSibm"
   },
   "source": [
    "*  Predicted house price of $i^{th}$ data point $y^{i}_{pred} =  \\frac{1}{k}\\sum_{\\text{k= model which was buit on samples not included } x^{i}}(\\text{predicted value of } x^{i} \\text{ with } k^{th} \\text{ model})$.\n",
    "*  Now calculate the $OOB Score =  \\frac{1}{506}\\sum_{i=1}^{506}(y^{i} - y^{i}_{pred})^{2}$."
   ]
  },
  {
   "cell_type": "markdown",
   "metadata": {
    "id": "RK860ocxTyoz"
   },
   "source": [
    "# <font color='red'><b>Task 2</b></font>"
   ]
  },
  {
   "cell_type": "markdown",
   "metadata": {
    "id": "1dme-N6TUCrY"
   },
   "source": [
    "*  <font color='blue'><b>Computing CI of OOB Score and Train MSE</b></font>\n",
    "  *   Repeat Task 1 for 35 times, and for each iteration store the Train MSE and OOB score </li>\n",
    "<li> After this we will have 35 Train MSE values and 35 OOB scores </li>\n",
    "<li> using these 35 values (assume like a sample) find the confidence intravels of MSE and OOB Score </li>\n",
    "<li> you need to report CI of MSE and CI of OOB Score </li>\n",
    "<li> Note: Refer the Central_Limit_theorem.ipynb to check how to find the confidence intravel</li>\n",
    "</ol>"
   ]
  },
  {
   "cell_type": "markdown",
   "metadata": {
    "id": "O6UcH1x9Uwrj"
   },
   "source": [
    "# <font color='red'><b>Task 3</b></font>"
   ]
  },
  {
   "cell_type": "markdown",
   "metadata": {
    "id": "bOC_AgsLU7OH"
   },
   "source": [
    "*  <font color='blue'><b>Given a single query point predict the price of house.</b></font>"
   ]
  },
  {
   "cell_type": "markdown",
   "metadata": {
    "id": "HYs5jSFdVILe"
   },
   "source": [
    "Consider xq= [0.18,20.0,5.00,0.0,0.421,5.60,72.2,7.95,7.0,30.0,19.1,372.13,18.60] \n",
    "Predict the house price for this point as mentioned in the step 2 of Task 1."
   ]
  },
  {
   "cell_type": "markdown",
   "metadata": {
    "id": "u6rShd89t552"
   },
   "source": [
    "## <font color='red'><b>A few key points</b></font>"
   ]
  },
  {
   "cell_type": "markdown",
   "metadata": {
    "id": "XdgTUXTouHEd"
   },
   "source": [
    "* Remember that the datapoints used for calculating MSE score contain some datapoints that were initially used while training the base learners (the 60% sampling). This makes these datapoints partially seen (i.e. the datapoints used for calculating the MSE score are a mixture of seen and unseen data).\n",
    "Whereas, the datapoints used for calculating OOB score have only the unseen data. This makes these datapoints completely unseen and therefore appropriate for testing the model's performance on unseen data.\n",
    "\n",
    "* Given the information above, if your logic is correct, the calculated MSE score should be less than the OOB score.\n",
    "\n",
    "* The MSE score must lie between 0 and 10.\n",
    "* The OOB score must lie between 10 and 35.\n",
    "\n",
    "* The difference between the left nad right confidence-interval values must not be more than 10. Make sure this is true for both MSE and OOB confidence-interval values."
   ]
  },
  {
   "cell_type": "markdown",
   "metadata": {
    "id": "V2fHTdS_zpgG"
   },
   "source": [
    "# <font color='blue'> <b>Task - 1</b></font>"
   ]
  },
  {
   "cell_type": "markdown",
   "metadata": {
    "id": "e0yGBuryOwHz"
   },
   "source": [
    "<font color='blue'><b>Step - 1</b></font>"
   ]
  },
  {
   "cell_type": "markdown",
   "metadata": {
    "id": "lJXX8vf3z073"
   },
   "source": [
    "*  <font color='blue'> <b>Creating samples</b></font>"
   ]
  },
  {
   "cell_type": "markdown",
   "metadata": {
    "id": "CSVaWG1F4uCZ"
   },
   "source": [
    "<font color='Orange'><b>Algorithm</b></font>\n",
    "\n",
    "![alt text](https://i.imgur.com/OfcFrUP.jpg/)"
   ]
  },
  {
   "cell_type": "markdown",
   "metadata": {
    "id": "f_oWoN97BhDY"
   },
   "source": [
    "*  <font color='blue'><b> Write code for generating samples</b></font>"
   ]
  },
  {
   "cell_type": "code",
   "execution_count": 26,
   "metadata": {
    "id": "Ph_6D2SDzz7F"
   },
   "outputs": [],
   "source": [
    "def generating_samples(input_data, target_data):\n",
    "\n",
    "    '''In this function, we will write code for generating 30 samples '''\n",
    "    # you can use random.choice to generate random indices without replacement\n",
    "    # Please have a look at this link https://docs.scipy.org/doc/numpy-1.16.0/reference/generated/numpy.random.choice.html for more details\n",
    "    # Please follow above pseudo code for generating samples \n",
    "    selecting_rows = np.random.choice(len(input_data), size = 303, replace = False) \n",
    "    replacing_rows = np.random.choice(len(selecting_rows), size = 203, replace = False)\n",
    "    number_of_cols = np.random.randint(3, 13)\n",
    "    selecting_colmns = np.random.choice(13, size = number_of_cols, replace = False)\n",
    "    # Sample data\n",
    "    sample_data = input_data[selecting_rows[:, None], selecting_colmns]\n",
    "    target_of_sample_data = target_data[selecting_rows]\n",
    "\n",
    "    # Replicating data\n",
    "    replicated_sample_data = sample_data[replacing_rows]\n",
    "    target_of_replicated_sample_data = target_of_sample_data[replacing_rows]\n",
    "\n",
    "    # Stacking of data\n",
    "    final_sample_data = np.vstack((sample_data, replicated_sample_data))\n",
    "    final_target_data = np.vstack((target_of_sample_data.reshape(-1, 1), target_of_replicated_sample_data.reshape(-1, 1)))\n",
    "\n",
    "    return final_sample_data , final_target_data, selecting_rows,selecting_colmns\n",
    "    #note please return as lists"
   ]
  },
  {
   "cell_type": "markdown",
   "metadata": {
    "id": "MivEQFlm7iOg"
   },
   "source": [
    "<font color='cyan'> <b> Grader function - 1 </b> </fongt>"
   ]
  },
  {
   "cell_type": "code",
   "execution_count": 27,
   "metadata": {
    "colab": {
     "base_uri": "https://localhost:8080/"
    },
    "id": "AVvuhNzm7uld",
    "outputId": "b363e514-7663-4024-dd7c-f77e057e7a6d"
   },
   "outputs": [
    {
     "data": {
      "text/plain": [
       "True"
      ]
     },
     "execution_count": 27,
     "metadata": {},
     "output_type": "execute_result"
    }
   ],
   "source": [
    "def grader_samples(a,b,c,d):\n",
    "    length = (len(a)==506  and len(b)==506)\n",
    "    sampled = (len(a)-len(set([str(i) for i in a]))==203)\n",
    "    rows_length = (len(c)==303)\n",
    "    column_length= (len(d)>=3)\n",
    "    assert(length and sampled and rows_length and column_length)\n",
    "    return True\n",
    "a,b,c,d = generating_samples(x, y)\n",
    "grader_samples(a,b,c,d)"
   ]
  },
  {
   "cell_type": "markdown",
   "metadata": {
    "id": "b4LSsmn4Jn2_"
   },
   "source": [
    "*  <font color='blue'> <b>Create 30 samples </b>"
   ]
  },
  {
   "cell_type": "markdown",
   "metadata": {
    "id": "3ec7MN6sL2BZ"
   },
   "source": [
    "![alt text](https://i.imgur.com/p8eZaWL.jpg)"
   ]
  },
  {
   "cell_type": "code",
   "execution_count": 28,
   "metadata": {
    "colab": {
     "base_uri": "https://localhost:8080/"
    },
    "id": "XXlKWjCcBvTk",
    "outputId": "ba187c3f-bb46-4eb3-fa2d-c944da1eb461"
   },
   "outputs": [
    {
     "name": "stderr",
     "output_type": "stream",
     "text": [
      "100%|██████████| 30/30 [00:00<00:00, 3722.76it/s]\n"
     ]
    }
   ],
   "source": [
    "# Use generating_samples function to create 30 samples \n",
    "# store these created samples in a list\n",
    "list_input_data =[]\n",
    "list_output_data =[]\n",
    "list_selected_row= []\n",
    "list_selected_columns_task1=[]\n",
    "\n",
    "for i in tqdm(range(30)):\n",
    "  a, b, c, d = generating_samples(x, y)\n",
    "  list_input_data.append(a)\n",
    "  list_output_data.append(b)\n",
    "  list_selected_row.append(c)\n",
    "  list_selected_columns_task1.append(d)"
   ]
  },
  {
   "cell_type": "markdown",
   "metadata": {
    "id": "MXUz9VFiMQkh"
   },
   "source": [
    "<font color='cyan'> <b>Grader function - 2 </b></font>"
   ]
  },
  {
   "cell_type": "code",
   "execution_count": 29,
   "metadata": {
    "colab": {
     "base_uri": "https://localhost:8080/"
    },
    "id": "hCvIq8NuMWOC",
    "outputId": "0cc04f0b-a989-43c5-8518-112df26f3820"
   },
   "outputs": [
    {
     "data": {
      "text/plain": [
       "True"
      ]
     },
     "execution_count": 29,
     "metadata": {},
     "output_type": "execute_result"
    }
   ],
   "source": [
    "def grader_30(a):\n",
    "    assert(len(a)==30 and len(a[0])==506)\n",
    "    return True\n",
    "grader_30(list_input_data)"
   ]
  },
  {
   "cell_type": "markdown",
   "metadata": {
    "id": "7Pv-mkZkO6dh"
   },
   "source": [
    "<br>"
   ]
  },
  {
   "cell_type": "markdown",
   "metadata": {
    "id": "whaHCPB0O8qF"
   },
   "source": [
    "<font color='red'><b>Step - 2 </b></font>"
   ]
  },
  {
   "cell_type": "markdown",
   "metadata": {
    "id": "XBy4zXSWPtU8"
   },
   "source": [
    "<font color='orange'><b>Flowchart for building tree</b></font>"
   ]
  },
  {
   "cell_type": "markdown",
   "metadata": {
    "id": "5xvH06HPQBdP"
   },
   "source": [
    "![alt text](https://i.imgur.com/pcXfSmp.png)"
   ]
  },
  {
   "cell_type": "markdown",
   "metadata": {
    "id": "WRwPO_uHQjul"
   },
   "source": [
    "*  <font color='blue'><b> Write code for building regression trees</b></font>"
   ]
  },
  {
   "cell_type": "code",
   "execution_count": 30,
   "metadata": {
    "colab": {
     "base_uri": "https://localhost:8080/"
    },
    "id": "YWQp6tRwMthq",
    "outputId": "44f4976a-fd55-4263-89af-40904f86f582"
   },
   "outputs": [
    {
     "name": "stderr",
     "output_type": "stream",
     "text": [
      "100%|██████████| 30/30 [00:00<00:00, 368.65it/s]\n"
     ]
    }
   ],
   "source": [
    "list_of_all_models_task1 = []\n",
    "for i in tqdm(range(30)):\n",
    "  clf = DecisionTreeRegressor(max_depth = None, min_samples_split=2)\n",
    "  train_x = list_input_data[i]\n",
    "  train_y = list_output_data[i]\n",
    "  clf.fit(train_x, train_y)\n",
    "  list_of_all_models_task1.append(clf)"
   ]
  },
  {
   "cell_type": "code",
   "execution_count": 31,
   "metadata": {
    "colab": {
     "base_uri": "https://localhost:8080/"
    },
    "id": "G6hRtYzBu78R",
    "outputId": "84e2794a-194d-4984-aee8-3202baa5437a"
   },
   "outputs": [
    {
     "name": "stderr",
     "output_type": "stream",
     "text": [
      "100%|██████████| 506/506 [00:01<00:00, 418.74it/s]\n"
     ]
    }
   ],
   "source": [
    "# Predictions on train data\n",
    "train_predictions = []\n",
    "for i in tqdm(range(len(x))):\n",
    "  pred_i = []\n",
    "  for j in range(30):\n",
    "    data_pnt = x[i][list_selected_columns_task1[j]].reshape(1, -1)\n",
    "    pred_i.append(list_of_all_models_task1[j].predict(data_pnt))\n",
    "\n",
    "  train_predictions.append(np.median(np.asarray(pred_i)))"
   ]
  },
  {
   "cell_type": "markdown",
   "metadata": {
    "id": "21j8BKfAQ1U8"
   },
   "source": [
    "<font color='orange'><b>Flowchart for calculating MSE </b></font>"
   ]
  },
  {
   "cell_type": "markdown",
   "metadata": {
    "id": "8Q0mTBD2RBx_"
   },
   "source": [
    "![alt text](https://i.imgur.com/sPEE618.png)"
   ]
  },
  {
   "cell_type": "markdown",
   "metadata": {
    "id": "6e-UamlHRjPy"
   },
   "source": [
    "After getting predicted_y for each data point, we can use sklearns mean_squared_error to calculate the MSE between predicted_y and actual_y."
   ]
  },
  {
   "cell_type": "markdown",
   "metadata": {
    "id": "TnIMT7_oR312"
   },
   "source": [
    "*  <font color='blue'><b> Write code for calculating MSE</b></font>"
   ]
  },
  {
   "cell_type": "code",
   "execution_count": 32,
   "metadata": {
    "colab": {
     "base_uri": "https://localhost:8080/"
    },
    "id": "qWhcvMRWRA9b",
    "outputId": "e7eedf1c-636f-444f-b200-d6a586430acb"
   },
   "outputs": [
    {
     "data": {
      "text/plain": [
       "0.023962450592885355"
      ]
     },
     "execution_count": 32,
     "metadata": {},
     "output_type": "execute_result"
    }
   ],
   "source": [
    "# Calculating mean squared error\n",
    "train_mean_square_error = mean_squared_error(y, train_predictions)\n",
    "train_mean_square_error"
   ]
  },
  {
   "cell_type": "markdown",
   "metadata": {
    "id": "RuclPDMnSz8F"
   },
   "source": [
    "<font color='blue'><b>Step - 3 </b></font>"
   ]
  },
  {
   "cell_type": "markdown",
   "metadata": {
    "id": "ESb9FSIDTM5V"
   },
   "source": [
    "<font color='orange'><b>Flowchart for calculating OOB score</b></font>"
   ]
  },
  {
   "cell_type": "markdown",
   "metadata": {
    "id": "HB-d6NMETbd9"
   },
   "source": [
    "![alt text](https://i.imgur.com/95S5Mtm.png)"
   ]
  },
  {
   "cell_type": "markdown",
   "metadata": {
    "id": "WW3GOcFzTqbt"
   },
   "source": [
    "Now calculate the $OOB Score =  \\frac{1}{506}\\sum_{i=1}^{506}(y^{i} - y^{i}_{pred})^{2}$."
   ]
  },
  {
   "cell_type": "markdown",
   "metadata": {
    "id": "zBqcS03pUYSZ"
   },
   "source": [
    "*  <font color='blue'><b> Write code for calculating OOB score </b></font>"
   ]
  },
  {
   "cell_type": "code",
   "execution_count": 33,
   "metadata": {
    "colab": {
     "base_uri": "https://localhost:8080/"
    },
    "id": "Fog_6DNdS-h_",
    "outputId": "1aa7ee10-91f7-46c9-c5b1-ca3391d5a3ca"
   },
   "outputs": [
    {
     "name": "stderr",
     "output_type": "stream",
     "text": [
      "100%|██████████| 506/506 [00:00<00:00, 805.28it/s]\n"
     ]
    }
   ],
   "source": [
    "# Predictions on OOB data\n",
    "oob_predictions = []\n",
    "for i in tqdm(range(len(x))):\n",
    "  pred_i = []\n",
    "  for j in range(30):\n",
    "    if i not in list_selected_row[j]:\n",
    "      data_pnt = x[i][list_selected_columns_task1[j]]\n",
    "      pred_i.append(list_of_all_models_task1[j].predict(data_pnt.reshape(1, -1)))\n",
    "  oob_predictions.append(np.median(np.asarray(pred_i)))"
   ]
  },
  {
   "cell_type": "code",
   "execution_count": 34,
   "metadata": {
    "colab": {
     "base_uri": "https://localhost:8080/"
    },
    "id": "b7FdjBDv6Fi7",
    "outputId": "a0f271bb-dee0-4e30-a37e-ac0e9d5896e9"
   },
   "outputs": [
    {
     "data": {
      "text/plain": [
       "14.621926877470354"
      ]
     },
     "execution_count": 34,
     "metadata": {},
     "output_type": "execute_result"
    }
   ],
   "source": [
    "# Calculating OOB score\n",
    "oob_score = mean_squared_error(y, oob_predictions)\n",
    "oob_score"
   ]
  },
  {
   "cell_type": "markdown",
   "metadata": {
    "id": "sbuiwX3OUjUI"
   },
   "source": [
    "# <font color='blue'><b>Task 2</b></font>"
   ]
  },
  {
   "cell_type": "markdown",
   "metadata": {
    "id": "Z7pGwlEN8WBG"
   },
   "source": [
    "### Redefining functions"
   ]
  },
  {
   "cell_type": "code",
   "execution_count": 16,
   "metadata": {
    "id": "ceW5-D88Uswi"
   },
   "outputs": [],
   "source": [
    "def generating_samples(input_data, target_data):\n",
    "\n",
    "    '''In this function, we will write code for generating 30 samples '''\n",
    "    # you can use random.choice to generate random indices without replacement\n",
    "    # Please have a look at this link https://docs.scipy.org/doc/numpy-1.16.0/reference/generated/numpy.random.choice.html for more details\n",
    "    # Please follow above pseudo code for generating samples \n",
    "    selecting_rows = np.random.choice(len(input_data), size = 303, replace = False) \n",
    "    replacing_rows = np.random.choice(len(selecting_rows), size = 203, replace = False)\n",
    "    number_of_cols = np.random.randint(3, 13)\n",
    "    selecting_colmns = np.random.choice(13, size = number_of_cols, replace = False)\n",
    "    # Sample data\n",
    "    sample_data = input_data[selecting_rows[:, None], selecting_colmns]\n",
    "    target_of_sample_data = target_data[selecting_rows]\n",
    "\n",
    "    # Replicating data\n",
    "    replicated_sample_data = sample_data[replacing_rows]\n",
    "    target_of_replicated_sample_data = target_of_sample_data[replacing_rows]\n",
    "\n",
    "    # Stacking of data\n",
    "    final_sample_data = np.vstack((sample_data, replicated_sample_data))\n",
    "    final_target_data = np.vstack((target_of_sample_data.reshape(-1, 1), target_of_replicated_sample_data.reshape(-1, 1)))\n",
    "\n",
    "    return final_sample_data , final_target_data, selecting_rows,selecting_colmns\n",
    "    #note please return as lists\n",
    "\n",
    "def get_models(list_input_data, list_output_data):\n",
    "  list_of_all_models = []\n",
    "  for i in range(30):\n",
    "    clf = DecisionTreeRegressor(max_depth = None, min_samples_split=2)\n",
    "    train_x = list_input_data[i]\n",
    "    train_y = list_output_data[i]\n",
    "    clf.fit(train_x, train_y)\n",
    "    list_of_all_models.append(clf)\n",
    "  return list_of_all_models\n",
    "\n",
    "def get_train_predictions(x, list_selected_columns, list_of_all_models):\n",
    "  train_predictions = []\n",
    "  for i in range(len(x)):\n",
    "    pred_i = []\n",
    "    for j in range(30):\n",
    "      data_pnt = x[i][list_selected_columns[j]].reshape(1, -1)\n",
    "      pred_i.append(list_of_all_models[j].predict(data_pnt))\n",
    "\n",
    "    train_predictions.append(np.median(np.asarray(pred_i)))\n",
    "  return train_predictions\n",
    "\n",
    "def get_oob_predictions(x, list_selected_columns, list_selected_row, list_of_all_models):\n",
    "  oob_predictions = []\n",
    "  for i in range(len(x)):\n",
    "    pred_i = []\n",
    "    for j in range(30):\n",
    "      if i not in list_selected_row[j]:\n",
    "        data_pnt = x[i][list_selected_columns[j]]\n",
    "        pred_i.append(list_of_all_models[j].predict(data_pnt.reshape(1, -1)))\n",
    "    oob_predictions.append(np.median(np.asarray(pred_i)))\n",
    "  return oob_predictions\n",
    "\n",
    "def get_mse_score(y_true, y_pred):\n",
    "  return mean_squared_error(y_true, y_pred)"
   ]
  },
  {
   "cell_type": "code",
   "execution_count": 17,
   "metadata": {
    "colab": {
     "base_uri": "https://localhost:8080/"
    },
    "id": "ZsvSVgEs8fGo",
    "outputId": "95236430-e687-493e-adc4-1d38bad7895c"
   },
   "outputs": [
    {
     "name": "stderr",
     "output_type": "stream",
     "text": [
      "100%|██████████| 35/35 [01:06<00:00,  1.89s/it]\n"
     ]
    }
   ],
   "source": [
    "\n",
    "# Repeating task 1 - 35 times\n",
    "train_scores = []\n",
    "oob_scores = []\n",
    "for i in tqdm(range(35)):\n",
    "  list_input_data =[]\n",
    "  list_output_data =[]\n",
    "  list_selected_row= []\n",
    "  list_selected_columns=[]\n",
    "  # Generating samples \n",
    "  for j in range(30):\n",
    "    a, b, c, d = generating_samples(x, y)\n",
    "    list_input_data.append(a)\n",
    "    list_output_data.append(b)\n",
    "    list_selected_row.append(c)\n",
    "    list_selected_columns.append(d)\n",
    "\n",
    "  # Building models\n",
    "  list_of_all_models = get_models(list_input_data, list_output_data)\n",
    "  # Getting train predictions\n",
    "  train_preds = get_train_predictions(x, list_selected_columns, list_of_all_models)\n",
    "  # MSE train score\n",
    "  train_scores.append(get_mse_score(y, train_preds))\n",
    "  # Getting oob predictions\n",
    "  oob_preds = get_oob_predictions(x, list_selected_columns, list_selected_row, list_of_all_models)\n",
    "  # Mean oob score\n",
    "  oob_scores.append(get_mse_score(y, oob_preds))"
   ]
  },
  {
   "cell_type": "code",
   "execution_count": 18,
   "metadata": {
    "colab": {
     "base_uri": "https://localhost:8080/"
    },
    "id": "5arofOqAyu16",
    "outputId": "ba4e4e13-2b99-4f8c-804b-bc6569294eef"
   },
   "outputs": [
    {
     "name": "stdout",
     "output_type": "stream",
     "text": [
      "the length of train scores obtained:  35\n",
      "the length of oob scores obtained 35\n"
     ]
    }
   ],
   "source": [
    "print(\"the length of train scores obtained: \",len(train_scores))\n",
    "\n",
    "print(\"the length of oob scores obtained\", len(oob_scores) )"
   ]
  },
  {
   "cell_type": "markdown",
   "metadata": {
    "id": "iENt18h6yJTB"
   },
   "source": [
    "### 95% Confidence interval of train scores"
   ]
  },
  {
   "cell_type": "code",
   "execution_count": 20,
   "metadata": {
    "colab": {
     "base_uri": "https://localhost:8080/"
    },
    "id": "isq0RQqJyI4Q",
    "outputId": "042463fe-b1a8-49c6-ec7c-4158a935d409"
   },
   "outputs": [
    {
     "name": "stdout",
     "output_type": "stream",
     "text": [
      "Upper Limit: 0.20984529010145678\n",
      "Lower Limit: 0.08443793529827884\n"
     ]
    }
   ],
   "source": [
    "train_scores_sample_mean = np.mean(np.asarray(train_scores))\n",
    "train_scores_std_dev = np.std(np.asarray(train_scores))\n",
    "sample_size = 35\n",
    "print('Upper Limit:', train_scores_sample_mean + (train_scores_std_dev/np.sqrt(sample_size)) * 1.96)\n",
    "print('Lower Limit:', train_scores_sample_mean - (train_scores_std_dev/np.sqrt(sample_size)) * 1.96)"
   ]
  },
  {
   "cell_type": "markdown",
   "metadata": {
    "id": "p9aQJnx07K2B"
   },
   "source": [
    "### 95% Confidence interval of OOB scores"
   ]
  },
  {
   "cell_type": "code",
   "execution_count": 21,
   "metadata": {
    "colab": {
     "base_uri": "https://localhost:8080/"
    },
    "id": "oYZvRs2f1Y2p",
    "outputId": "ca488ac9-e34f-4f86-f2cf-a92ab5e2b59b"
   },
   "outputs": [
    {
     "name": "stdout",
     "output_type": "stream",
     "text": [
      "Upper Limit: 15.261097143292206\n",
      "Lower Limit: 13.951614364449648\n"
     ]
    }
   ],
   "source": [
    "oob_scores_sample_mean = np.mean(np.asarray(oob_scores))\n",
    "oob_scores_std_dev = np.std(np.asarray(oob_scores))\n",
    "sample_size = 35\n",
    "print('Upper Limit:', oob_scores_sample_mean + (oob_scores_std_dev/np.sqrt(sample_size)) * 1.96)\n",
    "print('Lower Limit:', oob_scores_sample_mean - (oob_scores_std_dev/np.sqrt(sample_size)) * 1.96)"
   ]
  },
  {
   "cell_type": "markdown",
   "metadata": {
    "id": "jKTnJdiBVS_e"
   },
   "source": [
    "# <font color='blue'><b>Task 3</b></font>"
   ]
  },
  {
   "cell_type": "markdown",
   "metadata": {
    "id": "eXxrvZqHV1Fr"
   },
   "source": [
    "<font color='orange'><b>Flowchart for Task 3</b></font>"
   ]
  },
  {
   "cell_type": "markdown",
   "metadata": {
    "id": "NyjwEJ62V6a6"
   },
   "source": [
    "<b>Hint: </b> We created 30 models by using 30 samples in TASK-1. Here, we need send query point \"xq\"  to 30 models and perform the regression on the output generated by 30 models."
   ]
  },
  {
   "cell_type": "markdown",
   "metadata": {
    "id": "0emSwLL7VurD"
   },
   "source": [
    "![alt text](https://i.imgur.com/Y5cNhQk.png)"
   ]
  },
  {
   "cell_type": "markdown",
   "metadata": {
    "id": "29hjwKlWWDfo"
   },
   "source": [
    "*  <font color='blue'><b> Write code for TASK 3 </b></font>"
   ]
  },
  {
   "cell_type": "code",
   "execution_count": 39,
   "metadata": {
    "id": "i_pUlSD-VYD1"
   },
   "outputs": [],
   "source": [
    "def predict(list_of_all_models_task1,  list_selected_columns, xq):\n",
    "  pred = []\n",
    "  for i in range(30):\n",
    "    data_point = xq[list_selected_columns[i]]\n",
    "    pred.extend(list_of_all_models_task1[i].predict([data_point]))\n",
    "  return np.median(np.asarray(pred))"
   ]
  },
  {
   "cell_type": "code",
   "execution_count": 40,
   "metadata": {
    "colab": {
     "base_uri": "https://localhost:8080/"
    },
    "id": "NLkCRGJZ51kE",
    "outputId": "ce90fa7f-f2d9-4fc0-b170-ecb40fe096f6"
   },
   "outputs": [
    {
     "data": {
      "text/plain": [
       "24.0"
      ]
     },
     "execution_count": 40,
     "metadata": {},
     "output_type": "execute_result"
    }
   ],
   "source": [
    "xq = x[0]\n",
    "predict(list_of_all_models_task1, list_selected_columns_task1, xq)"
   ]
  },
  {
   "cell_type": "code",
   "execution_count": 41,
   "metadata": {
    "colab": {
     "base_uri": "https://localhost:8080/"
    },
    "id": "IKXCEbE06OQS",
    "outputId": "2dab8bf6-3920-4c9f-abf9-d45183ea5e4a"
   },
   "outputs": [
    {
     "data": {
      "text/plain": [
       "24.0"
      ]
     },
     "execution_count": 41,
     "metadata": {},
     "output_type": "execute_result"
    }
   ],
   "source": [
    "y[0]"
   ]
  },
  {
   "cell_type": "markdown",
   "metadata": {
    "id": "NIydMLPv6TRC"
   },
   "source": [
    " We see that the predicted value is equal to the actual value."
   ]
  },
  {
   "cell_type": "markdown",
   "metadata": {
    "id": "DJHTGEZgWJjR"
   },
   "source": [
    "<br><br><br>"
   ]
  },
  {
   "cell_type": "markdown",
   "metadata": {
    "id": "IOdUi-0xWOJ9"
   },
   "source": [
    "<font color='red'><b>Write observations for task 1, task 2, task 3 indetail</b></font>"
   ]
  },
  {
   "cell_type": "markdown",
   "metadata": {
    "id": "GXfdQrCG6brY"
   },
   "source": [
    "1. OOB scores is more than train score since it uses models that has not seen that data point for prediction\n",
    "2. Population mean can be calculated when the population std is not given using the sample mean and Standard error.\n",
    "3. Random sampling of columns leads to have more generic models."
   ]
  },
  {
   "cell_type": "code",
   "execution_count": null,
   "metadata": {
    "id": "0eVIXAY17FBg"
   },
   "outputs": [],
   "source": []
  }
 ],
 "metadata": {
  "colab": {
   "collapsed_sections": [],
   "name": "Copy of Bootstrap_assignment_modified.ipynb",
   "provenance": []
  },
  "kernelspec": {
   "display_name": "Python 3 (ipykernel)",
   "language": "python",
   "name": "python3"
  },
  "language_info": {
   "codemirror_mode": {
    "name": "ipython",
    "version": 3
   },
   "file_extension": ".py",
   "mimetype": "text/x-python",
   "name": "python",
   "nbconvert_exporter": "python",
   "pygments_lexer": "ipython3",
   "version": "3.10.0"
  }
 },
 "nbformat": 4,
 "nbformat_minor": 1
}
